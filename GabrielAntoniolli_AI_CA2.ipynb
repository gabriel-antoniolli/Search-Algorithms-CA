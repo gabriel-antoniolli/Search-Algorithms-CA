{
 "cells": [
  {
   "cell_type": "markdown",
   "id": "9725634b-eb62-4c6e-9861-0c50222469f3",
   "metadata": {},
   "source": [
    "A\n",
    "    1. A 'Graph' is a general concept for data visualisation that englobes many different types of structures. But at its core it is always a collection of two sets of vertices (nodes) and edges. On the other hand, a Tree is a specific type of graph that has a single structure with well defined rules. Although a Tree is also a graph, it has to follow a structure that graphs in general are not necessarily obliged to follow. Examples are: Graphs can be connected or disconnected while trees can only be connected. Graphs can contain loops while trees can not contain it. Graphs does not need to have a root node but trees must have one. Graph nodes can have any number of connection to other nodes while in a tree, excepting the root node, all nodes must have a parent node and zero or more child nodes. Finally, graphs are more commonly used for modelling complex system with many relationships between nodes, like computer networks, and Trees are used to represent hierarchal structures of data, like organisation charts."
   ]
  },
  {
   "cell_type": "markdown",
   "id": "10afee48-7108-468a-858a-f0fc7f5401bc",
   "metadata": {},
   "source": [
    "References:\n",
    "https://www.geeksforgeeks.org/difference-between-graph-and-tree/"
   ]
  }
 ],
 "metadata": {
  "kernelspec": {
   "display_name": "Python 3 (ipykernel)",
   "language": "python",
   "name": "python3"
  },
  "language_info": {
   "codemirror_mode": {
    "name": "ipython",
    "version": 3
   },
   "file_extension": ".py",
   "mimetype": "text/x-python",
   "name": "python",
   "nbconvert_exporter": "python",
   "pygments_lexer": "ipython3",
   "version": "3.12.0"
  }
 },
 "nbformat": 4,
 "nbformat_minor": 5
}
