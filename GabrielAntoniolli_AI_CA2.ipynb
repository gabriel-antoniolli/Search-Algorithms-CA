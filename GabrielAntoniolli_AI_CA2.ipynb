{
 "cells": [
  {
   "cell_type": "markdown",
   "id": "5d58cfe8-dd08-47e6-ba53-878e4433f324",
   "metadata": {},
   "source": [
    "\n",
    "# a.I\n",
    "A 'Graph' is a general concept for data visualisation that englobes many different types of structures. But at its core it is always a collection of two sets of vertices (nodes) and edges. On the other hand, a Tree is a specific type of graph that has a single structure with well defined rules. Although a Tree is also a graph, it has to follow a structure that graphs in general are not necessarily obliged to follow. Examples are: Graphs can be connected or disconnected while trees can only be connected. Graphs can contain loops while trees can not contain it. Graphs does not need to have a root node but trees must have one. Graph nodes can have any number of connection to other nodes while in a tree, excepting the root node, all nodes must have a parent node and zero or more child nodes. Finally, graphs are more commonly used for modelling complex system with many relationships between nodes, like computer networks, and Trees are used to represent hierarchal structures of data, like organisation charts."
   ]
  },
  {
   "cell_type": "markdown",
   "id": "10afee48-7108-468a-858a-f0fc7f5401bc",
   "metadata": {},
   "source": [
    "References:\n",
    "https://www.geeksforgeeks.org/difference-between-graph-and-tree/"
   ]
  },
  {
   "cell_type": "markdown",
   "id": "8e70dad1-04db-47a4-9e87-3deffb0ce176",
   "metadata": {},
   "source": [
    "\n",
    "# a.II\n",
    "The graph plays an important role in giving us a good visualisation of the problem structure. By displaying all possible routes (decision points) and their values, it makes it possible to us to come up with mathematical strategies to create solutions for the problem.\n",
    "    \n",
    "In the given graph, Nodes are representing the states of the puzzle. The states are decision points that contains distinct conditions or characteristics of the puzzle at a particular moment. to exemplify it with this particular puzzle. Everytime a route is chosen to the next node, a new set of decision points will be provided at this new state.\n",
    "\n",
    "As the main goal is to go from node A to node S, transitions between nodes plays a vital role on solving the puzzle. The graph represents transitions by using edges. Edges connect the nodes representing possible options of transitions from one node to another. All edges contain values, these values can represent a variety of different aspects of the puzzle, such as time, distance, costs, and others. These values are what is going to determine which route we should take to go from node A to node S spending the least amount of money for example. So suppose the puzzle represents ways of going from city A to city S, nodes represents cities, and edges represent routes, the edges values can be distance between cities for example."
   ]
  },
  {
   "cell_type": "markdown",
   "id": "416de644-f892-4f22-bfbe-5ce49fc4ce6a",
   "metadata": {},
   "source": [
    "\n",
    "# a.III\n",
    "There are many advantages to this type of visualisation. The clarity that it brings to the analyses of the puzzle is excellent, it displays clearly the states, the routes, and what it takes to transiction from one state to another. From this we can make better analyses of best and alternative routes when it comes, for example, to time spent between nodes, or distance, or even costs associated with the transition. This type of visual representation helps us better undestand particular nodes and its conditions and characteristics, and also better undestand the whole structure too. Being able to analyse and use the alternatives presented to any given state can result in a greater performance to any given requirement."
   ]
  },
  {
   "cell_type": "markdown",
   "id": "fa06ce3a-cadf-4c1e-876f-ac81e1a51c57",
   "metadata": {},
   "source": [
    "# b\n",
    "1. In the first stage, we take all nodes and add them to a list of unvisited nodes:\n",
    "   Unvisited = [A,B,C,D,E,F,G,H,J,K,L,M,N,P,Q,R,S,T,U,V,W]\n",
    "2. Now, we assign all nodes a tentative distance value of infinity, except the starting node that will have a value of 0. the infinity values are acting as place holders for the moment since we haven't visited them yet and we do not know their distance to neighbor nodes.\n",
    "   A = 0\n",
    "   B = float(\"inf\")\n",
    "   C = float(\"inf\")\n",
    "   D = float(\"inf\")\n",
    "   ...\n",
    "3. "
   ]
  }
 ],
 "metadata": {
  "kernelspec": {
   "display_name": "Python 3 (ipykernel)",
   "language": "python",
   "name": "python3"
  },
  "language_info": {
   "codemirror_mode": {
    "name": "ipython",
    "version": 3
   },
   "file_extension": ".py",
   "mimetype": "text/x-python",
   "name": "python",
   "nbconvert_exporter": "python",
   "pygments_lexer": "ipython3",
   "version": "3.12.0"
  }
 },
 "nbformat": 4,
 "nbformat_minor": 5
}
